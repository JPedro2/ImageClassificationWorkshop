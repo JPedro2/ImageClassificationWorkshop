{
  "nbformat": 4,
  "nbformat_minor": 0,
  "metadata": {
    "colab": {
      "name": "Copy of model_4.ipynb",
      "version": "0.3.2",
      "provenance": [],
      "toc_visible": true,
      "include_colab_link": true
    },
    "language_info": {
      "codemirror_mode": {
        "name": "ipython",
        "version": 3
      },
      "file_extension": ".py",
      "mimetype": "text/x-python",
      "name": "python",
      "nbconvert_exporter": "python",
      "pygments_lexer": "ipython3",
      "version": "3.6.5"
    },
    "kernelspec": {
      "name": "python3",
      "display_name": "Python 3"
    },
    "accelerator": "GPU"
  },
  "cells": [
    {
      "cell_type": "markdown",
      "metadata": {
        "id": "view-in-github",
        "colab_type": "text"
      },
      "source": [
        "<a href=\"https://colab.research.google.com/github/JPedro2/ImageClassificationWorkshop/blob/master/model_4.ipynb\" target=\"_parent\"><img src=\"https://colab.research.google.com/assets/colab-badge.svg\" alt=\"Open In Colab\"/></a>"
      ]
    },
    {
      "cell_type": "code",
      "metadata": {
        "id": "9BIGHHJeE5xF",
        "colab_type": "code",
        "colab": {
          "base_uri": "https://localhost:8080/",
          "height": 34
        },
        "outputId": "f6c104c6-20ec-4940-a8a8-cabf268aa637"
      },
      "source": [
        "from __future__ import absolute_import, division, print_function\n",
        "\n",
        "import tensorflow as tf\n",
        "from tensorflow import keras\n",
        "\n",
        "# Helper libraries\n",
        "import numpy as np\n",
        "import matplotlib.pyplot as plt\n",
        "\n",
        "print(tf.__version__)"
      ],
      "execution_count": 1,
      "outputs": [
        {
          "output_type": "stream",
          "text": [
            "1.13.1\n"
          ],
          "name": "stdout"
        }
      ]
    },
    {
      "cell_type": "code",
      "metadata": {
        "id": "BrbuT-lVE5xJ",
        "colab_type": "code",
        "colab": {
          "base_uri": "https://localhost:8080/",
          "height": 153
        },
        "outputId": "8efdeb52-f474-43af-c485-368efb10c788"
      },
      "source": [
        "fashion_mnist = keras.datasets.fashion_mnist\n",
        "\n",
        "(train_images, train_labels), (test_images, test_labels) = fashion_mnist.load_data()\n",
        "\n",
        "class_names = ['T-shirt/top', 'Trouser', 'Pullover', 'Dress', 'Coat', \n",
        "               'Sandal', 'Shirt', 'Sneaker', 'Bag', 'Ankle boot']"
      ],
      "execution_count": 2,
      "outputs": [
        {
          "output_type": "stream",
          "text": [
            "Downloading data from https://storage.googleapis.com/tensorflow/tf-keras-datasets/train-labels-idx1-ubyte.gz\n",
            "32768/29515 [=================================] - 0s 0us/step\n",
            "Downloading data from https://storage.googleapis.com/tensorflow/tf-keras-datasets/train-images-idx3-ubyte.gz\n",
            "26427392/26421880 [==============================] - 0s 0us/step\n",
            "Downloading data from https://storage.googleapis.com/tensorflow/tf-keras-datasets/t10k-labels-idx1-ubyte.gz\n",
            "8192/5148 [===============================================] - 0s 0us/step\n",
            "Downloading data from https://storage.googleapis.com/tensorflow/tf-keras-datasets/t10k-images-idx3-ubyte.gz\n",
            "4423680/4422102 [==============================] - 0s 0us/step\n"
          ],
          "name": "stdout"
        }
      ]
    },
    {
      "cell_type": "code",
      "metadata": {
        "id": "96k7G9hNE5xL",
        "colab_type": "code",
        "colab": {}
      },
      "source": [
        "train_images = train_images / 255.0\n",
        "\n",
        "test_images = test_images / 255.0"
      ],
      "execution_count": 0,
      "outputs": []
    },
    {
      "cell_type": "code",
      "metadata": {
        "id": "jmSFJnt1E5xN",
        "colab_type": "code",
        "colab": {}
      },
      "source": [
        "train_images = train_images.reshape(train_images.shape[0], train_images.shape[1], train_images.shape[2], 1)\n",
        "train_labels = train_labels.reshape(train_labels.shape[0], 1)\n",
        "\n",
        "test_images = test_images.reshape(test_images.shape[0], test_images.shape[1], test_images.shape[2], 1)\n",
        "test_labels = test_labels.reshape(test_labels.shape[0], 1)"
      ],
      "execution_count": 0,
      "outputs": []
    },
    {
      "cell_type": "markdown",
      "metadata": {
        "id": "CwjeoYvgE5xP",
        "colab_type": "text"
      },
      "source": [
        "# Add Dropout Layer"
      ]
    },
    {
      "cell_type": "code",
      "metadata": {
        "id": "IjIoGNX1E5xP",
        "colab_type": "code",
        "outputId": "3d369682-5de5-446a-f0a1-34ad8992f8f2",
        "colab": {
          "base_uri": "https://localhost:8080/",
          "height": 139
        }
      },
      "source": [
        "model = keras.Sequential([\n",
        "        keras.layers.Conv2D(filters = 32, kernel_size = (5,5),activation ='relu', padding='same', \n",
        "                            input_shape = (28,28,1)),\n",
        "        keras.layers.MaxPooling2D(pool_size=(2,2)),    \n",
        "        # Add Dropout Layer\n",
        "        keras.layers.Dropout(rate=0.5),\n",
        "\n",
        "        keras.layers.Flatten(),\n",
        "        keras.layers.Dense(512, activation = \"relu\"),\n",
        "        # Add Dropout Layer\n",
        "        keras.layers.Dropout(rate=0.5),\n",
        "        keras.layers.Dense(10, activation = \"softmax\")])"
      ],
      "execution_count": 5,
      "outputs": [
        {
          "output_type": "stream",
          "text": [
            "WARNING:tensorflow:From /usr/local/lib/python3.6/dist-packages/tensorflow/python/ops/resource_variable_ops.py:435: colocate_with (from tensorflow.python.framework.ops) is deprecated and will be removed in a future version.\n",
            "Instructions for updating:\n",
            "Colocations handled automatically by placer.\n",
            "WARNING:tensorflow:From /usr/local/lib/python3.6/dist-packages/tensorflow/python/keras/layers/core.py:143: calling dropout (from tensorflow.python.ops.nn_ops) with keep_prob is deprecated and will be removed in a future version.\n",
            "Instructions for updating:\n",
            "Please use `rate` instead of `keep_prob`. Rate should be set to `rate = 1 - keep_prob`.\n"
          ],
          "name": "stdout"
        }
      ]
    },
    {
      "cell_type": "code",
      "metadata": {
        "id": "4pXn-1p4E5xU",
        "colab_type": "code",
        "colab": {}
      },
      "source": [
        "model.compile(optimizer='adam', \n",
        "              loss='sparse_categorical_crossentropy',\n",
        "              metrics=['accuracy'])"
      ],
      "execution_count": 0,
      "outputs": []
    },
    {
      "cell_type": "code",
      "metadata": {
        "id": "FF49uRbhE5xW",
        "colab_type": "code",
        "colab": {}
      },
      "source": [
        "earlystop = tf.keras.callbacks.EarlyStopping(monitor='val_loss', patience=2) # Try with 2"
      ],
      "execution_count": 0,
      "outputs": []
    },
    {
      "cell_type": "code",
      "metadata": {
        "id": "sf0eHsZCE5xZ",
        "colab_type": "code",
        "outputId": "59f506cb-28f8-4ea0-e02e-58987fb629ef",
        "colab": {
          "base_uri": "https://localhost:8080/",
          "height": 408
        }
      },
      "source": [
        "from time import time\n",
        "\n",
        "tensorboard = tf.keras.callbacks.TensorBoard(log_dir=\"logs/{}\".format(time()))\n",
        "\n",
        "history = model.fit(train_images, train_labels, epochs=20, validation_split=0.2, callbacks=[earlystop, tensorboard])"
      ],
      "execution_count": 8,
      "outputs": [
        {
          "output_type": "stream",
          "text": [
            "Train on 48000 samples, validate on 12000 samples\n",
            "Epoch 1/20\n",
            "48000/48000 [==============================] - 11s 236us/sample - loss: 0.4603 - acc: 0.8347 - val_loss: 0.3152 - val_acc: 0.8862\n",
            "Epoch 2/20\n",
            "48000/48000 [==============================] - 8s 173us/sample - loss: 0.3362 - acc: 0.8784 - val_loss: 0.2855 - val_acc: 0.8942\n",
            "Epoch 3/20\n",
            "48000/48000 [==============================] - 8s 169us/sample - loss: 0.2965 - acc: 0.8907 - val_loss: 0.2656 - val_acc: 0.9009\n",
            "Epoch 4/20\n",
            "48000/48000 [==============================] - 8s 167us/sample - loss: 0.2751 - acc: 0.8983 - val_loss: 0.2593 - val_acc: 0.9027\n",
            "Epoch 5/20\n",
            "48000/48000 [==============================] - 8s 166us/sample - loss: 0.2580 - acc: 0.9049 - val_loss: 0.2540 - val_acc: 0.9061\n",
            "Epoch 6/20\n",
            "48000/48000 [==============================] - 8s 166us/sample - loss: 0.2414 - acc: 0.9101 - val_loss: 0.2602 - val_acc: 0.9048\n",
            "Epoch 7/20\n",
            "48000/48000 [==============================] - 8s 166us/sample - loss: 0.2264 - acc: 0.9164 - val_loss: 0.2465 - val_acc: 0.9093\n",
            "Epoch 8/20\n",
            "48000/48000 [==============================] - 8s 169us/sample - loss: 0.2171 - acc: 0.9188 - val_loss: 0.2448 - val_acc: 0.9115\n",
            "Epoch 9/20\n",
            "48000/48000 [==============================] - 8s 167us/sample - loss: 0.2110 - acc: 0.9206 - val_loss: 0.2391 - val_acc: 0.9110\n",
            "Epoch 10/20\n",
            "48000/48000 [==============================] - 8s 171us/sample - loss: 0.2005 - acc: 0.9249 - val_loss: 0.2407 - val_acc: 0.9143\n",
            "Epoch 11/20\n",
            "48000/48000 [==============================] - 8s 169us/sample - loss: 0.1877 - acc: 0.9302 - val_loss: 0.2495 - val_acc: 0.9121\n"
          ],
          "name": "stdout"
        }
      ]
    },
    {
      "cell_type": "code",
      "metadata": {
        "id": "BdDtWipEE5xc",
        "colab_type": "code",
        "outputId": "57e92909-28ba-4bf4-cb08-21ffc7d00fc9",
        "colab": {
          "base_uri": "https://localhost:8080/",
          "height": 51
        }
      },
      "source": [
        "test_loss, test_acc = model.evaluate(test_images, test_labels)\n",
        "\n",
        "print('Test accuracy:', test_acc)"
      ],
      "execution_count": 9,
      "outputs": [
        {
          "output_type": "stream",
          "text": [
            "10000/10000 [==============================] - 0s 49us/sample - loss: 0.2574 - acc: 0.9105\n",
            "Test accuracy: 0.9105\n"
          ],
          "name": "stdout"
        }
      ]
    },
    {
      "cell_type": "markdown",
      "metadata": {
        "id": "mxOOa31dGnL8",
        "colab_type": "text"
      },
      "source": [
        "# Plot Accuracy over time for comparison"
      ]
    },
    {
      "cell_type": "code",
      "metadata": {
        "id": "rSP92OfAGoS8",
        "colab_type": "code",
        "colab": {
          "base_uri": "https://localhost:8080/",
          "height": 573
        },
        "outputId": "ba29d367-9494-46b7-dd1a-ce5b73ca0d84"
      },
      "source": [
        "#model.fit() returns a History object that contains a dictionary with everything that happened during training:\n",
        "history_dict = history.history\n",
        "history_dict.keys()\n",
        "\n",
        "# There are four entries: one for each monitored metric during training and validation. \n",
        "# We can use these to plot the training and validation loss and accuracy for comparison.\n",
        "acc = history_dict['acc']\n",
        "val_acc = history_dict['val_acc']\n",
        "loss = history_dict['loss']\n",
        "val_loss = history_dict['val_loss']\n",
        "\n",
        "#epochs = range(1, len(acc) + 1)\n",
        "epochs = range(len(acc))\n",
        "\n",
        "\n",
        "# \"r\" is for \"solid red line\"\n",
        "plt.plot(epochs, loss, 'r', label='Training loss')\n",
        "# b is for \"solid blue line\"\n",
        "plt.plot(epochs, val_loss, 'b', label='Validation loss')\n",
        "plt.title('Training and validation Loss')\n",
        "plt.xlabel('Epochs')\n",
        "plt.ylabel('Loss')\n",
        "plt.legend(loc=0)\n",
        "plt.show()\n",
        "\n",
        "plt.plot(epochs, acc, 'r', label='Training acc')\n",
        "plt.plot(epochs, val_acc, 'b', label='Validation acc')\n",
        "plt.title('Training and validation Accuracy')\n",
        "plt.xlabel('Epochs')\n",
        "plt.ylabel('Accuracy')\n",
        "plt.legend(loc=0)\n",
        "plt.show()"
      ],
      "execution_count": 10,
      "outputs": [
        {
          "output_type": "display_data",
          "data": {
            "image/png": "[encoded data removed]",
            "text/plain": [
              "<Figure size 432x288 with 1 Axes>"
            ]
          },
          "metadata": {
            "tags": []
          }
        },
        {
          "output_type": "display_data",
          "data": {
            "image/png": "[encoded data removed]",
            "text/plain": [
              "<Figure size 432x288 with 1 Axes>"
            ]
          },
          "metadata": {
            "tags": []
          }
        }
      ]
    },
    {
      "source": [
        "### Conclusion\n",
        "It does now seem that with this Convolutional Neural Network and all the hyper-parameters that we have tunned along the way, we are able to produce a robust model with good enough loss and accuracy in just around 10 _epochs_.\n",
        "\n",
        "There is no right or wrong answer! **I would highly recommend** that you play with some of the _hyper-parameters_ (like `dropout`, `validation_split`, `patience`, `filters`, etc) and even add more Convolution and Neural Network layers (by copying and pasting the existing ones, for example) to find out if you can achieve a better model.\n",
        "\n",
        "[Prev](https://github.com/JPedro2/ImageClassificationWorkshop/blob/master/model_3.ipynb) - Next"
      ],
      "cell_type": "markdown",
      "metadata": {}
    }
  ]
}