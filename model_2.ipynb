{
  "nbformat": 4,
  "nbformat_minor": 0,
  "metadata": {
    "colab": {
      "name": "Copy of model_2.ipynb",
      "version": "0.3.2",
      "provenance": [],
      "toc_visible": true,
      "include_colab_link": true
    },
    "language_info": {
      "codemirror_mode": {
        "name": "ipython",
        "version": 3
      },
      "file_extension": ".py",
      "mimetype": "text/x-python",
      "name": "python",
      "nbconvert_exporter": "python",
      "pygments_lexer": "ipython3",
      "version": "3.6.5"
    },
    "kernelspec": {
      "name": "python3",
      "display_name": "Python 3"
    },
    "accelerator": "GPU"
  },
  "cells": [
    {
      "cell_type": "markdown",
      "metadata": {
        "id": "view-in-github",
        "colab_type": "text"
      },
      "source": [
        "<a href=\"https://colab.research.google.com/github/JPedro2/ImageClassificationWorkshop/blob/master/model_2.ipynb\" target=\"_parent\"><img src=\"https://colab.research.google.com/assets/colab-badge.svg\" alt=\"Open In Colab\"/></a>"
      ]
    },
    {
      "cell_type": "code",
      "metadata": {
        "id": "wzNCXgzWH267",
        "colab_type": "code",
        "outputId": "e84297c8-5ee7-4a15-ecc0-c06b465415e8",
        "colab": {
          "base_uri": "https://localhost:8080/",
          "height": 34
        }
      },
      "source": [
        "from __future__ import absolute_import, division, print_function\n",
        "\n",
        "import tensorflow as tf\n",
        "from tensorflow import keras\n",
        "\n",
        "# Helper libraries\n",
        "import numpy as np\n",
        "import matplotlib.pyplot as plt\n",
        "\n",
        "print(tf.__version__)"
      ],
      "execution_count": 1,
      "outputs": [
        {
          "output_type": "stream",
          "text": [
            "1.13.1\n"
          ],
          "name": "stdout"
        }
      ]
    },
    {
      "cell_type": "code",
      "metadata": {
        "id": "r3sDTY-CH26_",
        "colab_type": "code",
        "outputId": "30ddf2e6-4274-4d65-824b-eb9754bee6d9",
        "colab": {
          "base_uri": "https://localhost:8080/",
          "height": 153
        }
      },
      "source": [
        "fashion_mnist = keras.datasets.fashion_mnist\n",
        "\n",
        "(train_images, train_labels), (test_images, test_labels) = fashion_mnist.load_data()\n",
        "\n",
        "class_names = ['T-shirt/top', 'Trouser', 'Pullover', 'Dress', 'Coat', \n",
        "               'Sandal', 'Shirt', 'Sneaker', 'Bag', 'Ankle boot']"
      ],
      "execution_count": 2,
      "outputs": [
        {
          "output_type": "stream",
          "text": [
            "Downloading data from https://storage.googleapis.com/tensorflow/tf-keras-datasets/train-labels-idx1-ubyte.gz\n",
            "32768/29515 [=================================] - 0s 0us/step\n",
            "Downloading data from https://storage.googleapis.com/tensorflow/tf-keras-datasets/train-images-idx3-ubyte.gz\n",
            "26427392/26421880 [==============================] - 0s 0us/step\n",
            "Downloading data from https://storage.googleapis.com/tensorflow/tf-keras-datasets/t10k-labels-idx1-ubyte.gz\n",
            "8192/5148 [===============================================] - 0s 0us/step\n",
            "Downloading data from https://storage.googleapis.com/tensorflow/tf-keras-datasets/t10k-images-idx3-ubyte.gz\n",
            "4423680/4422102 [==============================] - 0s 0us/step\n"
          ],
          "name": "stdout"
        }
      ]
    },
    {
      "cell_type": "code",
      "metadata": {
        "id": "CwIdGA1XH27B",
        "colab_type": "code",
        "outputId": "b1152161-4cdc-4293-f2ab-cb82cf0d2574",
        "colab": {
          "base_uri": "https://localhost:8080/",
          "height": 34
        }
      },
      "source": [
        "train_images = train_images / 255.0\n",
        "\n",
        "test_images = test_images / 255.0\n",
        "\n",
        "train_images.shape"
      ],
      "execution_count": 3,
      "outputs": [
        {
          "output_type": "execute_result",
          "data": {
            "text/plain": [
              "(60000, 28, 28)"
            ]
          },
          "metadata": {
            "tags": []
          },
          "execution_count": 3
        }
      ]
    },
    {
      "cell_type": "markdown",
      "metadata": {
        "id": "vMS2onp-H27D",
        "colab_type": "text"
      },
      "source": [
        "# Add depth dimension"
      ]
    },
    {
      "cell_type": "code",
      "metadata": {
        "id": "wOIgMN4GH27E",
        "colab_type": "code",
        "outputId": "0cc67eae-624e-4283-d983-d4b1f4cad7de",
        "colab": {
          "base_uri": "https://localhost:8080/",
          "height": 34
        }
      },
      "source": [
        "train_images = train_images.reshape(train_images.shape[0], train_images.shape[1], train_images.shape[2], 1)\n",
        "train_labels = train_labels.reshape(train_labels.shape[0], 1)\n",
        "\n",
        "test_images = test_images.reshape(test_images.shape[0], test_images.shape[1], test_images.shape[2], 1)\n",
        "test_labels = test_labels.reshape(test_labels.shape[0], 1)\n",
        "\n",
        "train_images.shape"
      ],
      "execution_count": 4,
      "outputs": [
        {
          "output_type": "execute_result",
          "data": {
            "text/plain": [
              "(60000, 28, 28, 1)"
            ]
          },
          "metadata": {
            "tags": []
          },
          "execution_count": 4
        }
      ]
    },
    {
      "cell_type": "markdown",
      "metadata": {
        "id": "0j0dM3HgH27H",
        "colab_type": "text"
      },
      "source": [
        "# Add Convolutional Layer and MaxPooling Layer"
      ]
    },
    {
      "cell_type": "code",
      "metadata": {
        "id": "pBoeGGbqH27H",
        "colab_type": "code",
        "outputId": "0879fa8e-ba2d-4e53-c501-c632f5e051ae",
        "colab": {
          "base_uri": "https://localhost:8080/",
          "height": 88
        }
      },
      "source": [
        "model = keras.Sequential([\n",
        "        keras.layers.Conv2D(filters = 32, kernel_size = (5,5),activation ='relu', padding='same', \n",
        "                            input_shape = (28,28,1)),\n",
        "        keras.layers.MaxPooling2D(pool_size=(2,2)),       \n",
        "\n",
        "        keras.layers.Flatten(),\n",
        "        keras.layers.Dense(512, activation = \"relu\"),\n",
        "        keras.layers.Dense(10, activation = \"softmax\")])"
      ],
      "execution_count": 5,
      "outputs": [
        {
          "output_type": "stream",
          "text": [
            "WARNING:tensorflow:From /usr/local/lib/python3.6/dist-packages/tensorflow/python/ops/resource_variable_ops.py:435: colocate_with (from tensorflow.python.framework.ops) is deprecated and will be removed in a future version.\n",
            "Instructions for updating:\n",
            "Colocations handled automatically by placer.\n"
          ],
          "name": "stdout"
        }
      ]
    },
    {
      "cell_type": "code",
      "metadata": {
        "id": "RVZn7jeRH27J",
        "colab_type": "code",
        "colab": {}
      },
      "source": [
        "model.compile(optimizer='adam', \n",
        "              loss='sparse_categorical_crossentropy',\n",
        "              metrics=['accuracy'])"
      ],
      "execution_count": 0,
      "outputs": []
    },
    {
      "cell_type": "code",
      "metadata": {
        "id": "SeGw5HTIH27M",
        "colab_type": "code",
        "outputId": "a2937545-cb32-4bd2-b9c9-6f191b0818c0",
        "colab": {
          "base_uri": "https://localhost:8080/",
          "height": 731
        }
      },
      "source": [
        "from time import time\n",
        "\n",
        "tensorboard = tf.keras.callbacks.TensorBoard(log_dir=\"logs/{}\".format(time()))\n",
        "\n",
        "model.fit(train_images, train_labels, epochs=20, validation_split=0.2, callbacks=[tensorboard])"
      ],
      "execution_count": 7,
      "outputs": [
        {
          "output_type": "stream",
          "text": [
            "Train on 48000 samples, validate on 12000 samples\n",
            "Epoch 1/20\n",
            "48000/48000 [==============================] - 11s 231us/sample - loss: 0.3811 - acc: 0.8633 - val_loss: 0.3171 - val_acc: 0.8866\n",
            "Epoch 2/20\n",
            "48000/48000 [==============================] - 7s 156us/sample - loss: 0.2559 - acc: 0.9058 - val_loss: 0.2891 - val_acc: 0.8953\n",
            "Epoch 3/20\n",
            "48000/48000 [==============================] - 7s 155us/sample - loss: 0.2038 - acc: 0.9234 - val_loss: 0.2458 - val_acc: 0.9130\n",
            "Epoch 4/20\n",
            "48000/48000 [==============================] - 7s 155us/sample - loss: 0.1656 - acc: 0.9374 - val_loss: 0.2509 - val_acc: 0.9151\n",
            "Epoch 5/20\n",
            "48000/48000 [==============================] - 7s 156us/sample - loss: 0.1319 - acc: 0.9510 - val_loss: 0.2854 - val_acc: 0.9058\n",
            "Epoch 6/20\n",
            "48000/48000 [==============================] - 7s 156us/sample - loss: 0.1067 - acc: 0.9605 - val_loss: 0.2741 - val_acc: 0.9141\n",
            "Epoch 7/20\n",
            "48000/48000 [==============================] - 7s 155us/sample - loss: 0.0853 - acc: 0.9690 - val_loss: 0.2947 - val_acc: 0.9170\n",
            "Epoch 8/20\n",
            "48000/48000 [==============================] - 8s 156us/sample - loss: 0.0644 - acc: 0.9769 - val_loss: 0.3130 - val_acc: 0.9147\n",
            "Epoch 9/20\n",
            "48000/48000 [==============================] - 7s 156us/sample - loss: 0.0544 - acc: 0.9805 - val_loss: 0.3534 - val_acc: 0.9162\n",
            "Epoch 10/20\n",
            "48000/48000 [==============================] - 7s 156us/sample - loss: 0.0450 - acc: 0.9844 - val_loss: 0.3693 - val_acc: 0.9144\n",
            "Epoch 11/20\n",
            "48000/48000 [==============================] - 7s 155us/sample - loss: 0.0362 - acc: 0.9868 - val_loss: 0.3972 - val_acc: 0.9126\n",
            "Epoch 12/20\n",
            "48000/48000 [==============================] - 7s 156us/sample - loss: 0.0336 - acc: 0.9886 - val_loss: 0.4415 - val_acc: 0.9112\n",
            "Epoch 13/20\n",
            "48000/48000 [==============================] - 8s 161us/sample - loss: 0.0276 - acc: 0.9904 - val_loss: 0.4364 - val_acc: 0.9101\n",
            "Epoch 14/20\n",
            "48000/48000 [==============================] - 8s 159us/sample - loss: 0.0209 - acc: 0.9927 - val_loss: 0.5065 - val_acc: 0.9091\n",
            "Epoch 15/20\n",
            "48000/48000 [==============================] - 7s 155us/sample - loss: 0.0209 - acc: 0.9930 - val_loss: 0.5013 - val_acc: 0.9134\n",
            "Epoch 16/20\n",
            "48000/48000 [==============================] - 7s 156us/sample - loss: 0.0191 - acc: 0.9935 - val_loss: 0.5660 - val_acc: 0.9062\n",
            "Epoch 17/20\n",
            "48000/48000 [==============================] - 7s 155us/sample - loss: 0.0205 - acc: 0.9932 - val_loss: 0.5246 - val_acc: 0.9132\n",
            "Epoch 18/20\n",
            "48000/48000 [==============================] - 7s 156us/sample - loss: 0.0167 - acc: 0.9944 - val_loss: 0.5291 - val_acc: 0.9118\n",
            "Epoch 19/20\n",
            "48000/48000 [==============================] - 7s 156us/sample - loss: 0.0157 - acc: 0.9950 - val_loss: 0.5354 - val_acc: 0.9123\n",
            "Epoch 20/20\n",
            "48000/48000 [==============================] - 8s 157us/sample - loss: 0.0136 - acc: 0.9956 - val_loss: 0.5695 - val_acc: 0.9120\n"
          ],
          "name": "stdout"
        },
        {
          "output_type": "execute_result",
          "data": {
            "text/plain": [
              "<tensorflow.python.keras.callbacks.History at 0x7f04d8ad00b8>"
            ]
          },
          "metadata": {
            "tags": []
          },
          "execution_count": 7
        }
      ]
    },
    {
      "cell_type": "code",
      "metadata": {
        "id": "z_05aMWaH27R",
        "colab_type": "code",
        "outputId": "455530ca-b66d-486c-8c48-02826c69d857",
        "colab": {
          "base_uri": "https://localhost:8080/",
          "height": 51
        }
      },
      "source": [
        "test_loss, test_acc = model.evaluate(test_images, test_labels)\n",
        "\n",
        "print('Test accuracy:', test_acc)"
      ],
      "execution_count": 8,
      "outputs": [
        {
          "output_type": "stream",
          "text": [
            "10000/10000 [==============================] - 1s 55us/sample - loss: 0.6351 - acc: 0.9065\n",
            "Test accuracy: 0.9065\n"
          ],
          "name": "stdout"
        }
      ]
    },
    {
      "cell_type": "code",
      "metadata": {
        "id": "aQrgO7UbcqeJ",
        "colab_type": "code",
        "colab": {}
      },
      "source": [
        "predictions = model.predict(test_images)"
      ],
      "execution_count": 0,
      "outputs": []
    },
    {
      "cell_type": "code",
      "metadata": {
        "id": "oc77J529N8e1",
        "colab_type": "code",
        "colab": {}
      },
      "source": [
        "def plot_image(i, predictions_array, true_label, img):\n",
        "  predictions_array, true_label, img = predictions_array[i], true_label[i], img[i]\n",
        "  plt.grid(False)\n",
        "  plt.xticks([])\n",
        "  plt.yticks([])\n",
        "  \n",
        "  plt.imshow(img, cmap=plt.cm.binary)\n",
        "  \n",
        "  predicted_label = np.argmax(predictions_array)\n",
        "  if predicted_label == true_label:\n",
        "    color = 'blue'\n",
        "  else:\n",
        "    color = 'red'\n",
        "  \n",
        "  plt.xlabel(\"{} {:2.0f}% ({})\".format(class_names[predicted_label],\n",
        "                                100*np.max(predictions_array),\n",
        "                                class_names[true_label]),\n",
        "                                color=color)\n",
        "\n",
        "def plot_value_array(i, predictions_array, true_label):\n",
        "  predictions_array, true_label = predictions_array[i], true_label[i]\n",
        "  plt.grid(False)\n",
        "  plt.xticks([])\n",
        "  plt.yticks([])\n",
        "  thisplot = plt.bar(range(10), predictions_array, color=\"#777777\")\n",
        "  plt.ylim([0, 1])\n",
        "  predicted_label = np.argmax(predictions_array)\n",
        "  \n",
        "  thisplot[predicted_label].set_color('red')\n",
        "  thisplot[true_label].set_color('blue')"
      ],
      "execution_count": 0,
      "outputs": []
    },
    {
      "cell_type": "markdown",
      "metadata": {
        "id": "K6r4OdWCedIs",
        "colab_type": "text"
      },
      "source": []
    },
    {
      "cell_type": "code",
      "metadata": {
        "id": "hPLPV2_Ub575",
        "colab_type": "code",
        "outputId": "94aec5d5-dc4b-4a84-b924-ef31dcb0bc0d",
        "colab": {
          "base_uri": "https://localhost:8080/",
          "height": 592
        }
      },
      "source": [
        "# Plot the first X test images, their predicted label, and the true label\n",
        "# Color correct predictions in blue, incorrect predictions in red\n",
        "# Reshape test_data (remove last column) to allow to plot the Prediction Graph\n",
        "test_images = test_images.reshape(test_images.shape[0], test_images.shape[1], test_images.shape[2])\n",
        "test_labels = test_labels.reshape(test_labels.shape[0])\n",
        "num_rows = 5\n",
        "num_cols = 3\n",
        "num_images = num_rows*num_cols\n",
        "plt.figure(figsize=(2*2*num_cols, 2*num_rows))\n",
        "for i in range(num_images):\n",
        "  plt.subplot(num_rows, 2*num_cols, 2*i+1)\n",
        "  plot_image(i, predictions, test_labels, test_images)\n",
        "  plt.subplot(num_rows, 2*num_cols, 2*i+2)\n",
        "  plot_value_array(i, predictions, test_labels)\n",
        "plt.show()"
      ],
      "execution_count": 11,
      "outputs": [
        {
          "output_type": "display_data",
          "data": {
            "image/png": "[encoded data removed]",
            "text/plain": [
              "<Figure size 864x720 with 30 Axes>"
            ]
          },
          "metadata": {
            "tags": []
          }
        }
      ]
    },
    {
      "source": [
        "# Next Steps\n",
        "\n",
        "Adding the convolutional layers does seem to improve our model and it seems to achieve a slightly higher accuracy. However, it is clear that the `validation loss` is a bit too high, which indicates that our model seems to be overfitting as it is learning too much from the trainning data and not able to _generalise_ so well with new data. Perhaps the model is being trained for too long, so let's look at a few techniques to avoid overfitting. \n",
        "\n",
        "[Prev](https://github.com/JPedro2/ImageClassificationWorkshop/blob/master/model_1.ipynb) - [Next](https://github.com/JPedro2/ImageClassificationWorkshop/blob/master/model_3.ipynb)"
      ],
      "cell_type": "markdown",
      "metadata": {}
    }
  ]
}