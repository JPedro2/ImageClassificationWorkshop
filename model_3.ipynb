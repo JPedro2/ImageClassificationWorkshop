{
  "nbformat": 4,
  "nbformat_minor": 0,
  "metadata": {
    "colab": {
      "name": "Copy of model_3.ipynb",
      "version": "0.3.2",
      "provenance": [],
      "toc_visible": true,
      "include_colab_link": true
    },
    "language_info": {
      "codemirror_mode": {
        "name": "ipython",
        "version": 3
      },
      "file_extension": ".py",
      "mimetype": "text/x-python",
      "name": "python",
      "nbconvert_exporter": "python",
      "pygments_lexer": "ipython3",
      "version": "3.6.5"
    },
    "kernelspec": {
      "name": "python3",
      "display_name": "Python 3"
    },
    "accelerator": "GPU"
  },
  "cells": [
    {
      "cell_type": "markdown",
      "metadata": {
        "id": "view-in-github",
        "colab_type": "text"
      },
      "source": [
        "<a href=\"https://colab.research.google.com/github/JPedro2/ImageClassificationWorkshop/blob/master/model_3.ipynb\" target=\"_parent\"><img src=\"https://colab.research.google.com/assets/colab-badge.svg\" alt=\"Open In Colab\"/></a>"
      ]
    },
    {
      "cell_type": "code",
      "metadata": {
        "id": "VENKPm9zoIwr",
        "colab_type": "code",
        "outputId": "cbd30038-32a0-4b4a-a9d0-6464415f8556",
        "colab": {
          "base_uri": "https://localhost:8080/",
          "height": 34
        }
      },
      "source": [
        "from __future__ import absolute_import, division, print_function\n",
        "\n",
        "import tensorflow as tf\n",
        "from tensorflow import keras\n",
        "\n",
        "# Helper libraries\n",
        "import numpy as np\n",
        "import matplotlib.pyplot as plt\n",
        "\n",
        "print(tf.__version__)"
      ],
      "execution_count": 1,
      "outputs": [
        {
          "output_type": "stream",
          "text": [
            "1.13.1\n"
          ],
          "name": "stdout"
        }
      ]
    },
    {
      "cell_type": "code",
      "metadata": {
        "id": "ss2PCb_GoIwv",
        "colab_type": "code",
        "outputId": "00a4f2ba-04e0-4b1e-d837-aa273e6fddc1",
        "colab": {
          "base_uri": "https://localhost:8080/",
          "height": 153
        }
      },
      "source": [
        "fashion_mnist = keras.datasets.fashion_mnist\n",
        "\n",
        "(train_images, train_labels), (test_images, test_labels) = fashion_mnist.load_data()\n",
        "\n",
        "class_names = ['T-shirt/top', 'Trouser', 'Pullover', 'Dress', 'Coat', \n",
        "               'Sandal', 'Shirt', 'Sneaker', 'Bag', 'Ankle boot']"
      ],
      "execution_count": 2,
      "outputs": [
        {
          "output_type": "stream",
          "text": [
            "Downloading data from https://storage.googleapis.com/tensorflow/tf-keras-datasets/train-labels-idx1-ubyte.gz\n",
            "32768/29515 [=================================] - 0s 0us/step\n",
            "Downloading data from https://storage.googleapis.com/tensorflow/tf-keras-datasets/train-images-idx3-ubyte.gz\n",
            "26427392/26421880 [==============================] - 0s 0us/step\n",
            "Downloading data from https://storage.googleapis.com/tensorflow/tf-keras-datasets/t10k-labels-idx1-ubyte.gz\n",
            "8192/5148 [===============================================] - 0s 0us/step\n",
            "Downloading data from https://storage.googleapis.com/tensorflow/tf-keras-datasets/t10k-images-idx3-ubyte.gz\n",
            "4423680/4422102 [==============================] - 0s 0us/step\n"
          ],
          "name": "stdout"
        }
      ]
    },
    {
      "cell_type": "code",
      "metadata": {
        "id": "CVf5b7P7oIwx",
        "colab_type": "code",
        "colab": {}
      },
      "source": [
        "train_images = train_images / 255.0\n",
        "\n",
        "test_images = test_images / 255.0"
      ],
      "execution_count": 0,
      "outputs": []
    },
    {
      "cell_type": "code",
      "metadata": {
        "id": "dnXpd6IAoIwz",
        "colab_type": "code",
        "colab": {}
      },
      "source": [
        "train_images = train_images.reshape(train_images.shape[0], train_images.shape[1], train_images.shape[2], 1)\n",
        "train_labels = train_labels.reshape(train_labels.shape[0], 1)\n",
        "\n",
        "test_images = test_images.reshape(test_images.shape[0], test_images.shape[1], test_images.shape[2], 1)\n",
        "test_labels = test_labels.reshape(test_labels.shape[0], 1)"
      ],
      "execution_count": 0,
      "outputs": []
    },
    {
      "cell_type": "code",
      "metadata": {
        "id": "JTLKc2iWoIw1",
        "colab_type": "code",
        "colab": {
          "base_uri": "https://localhost:8080/",
          "height": 88
        },
        "outputId": "7b3bd1ab-5ac2-4425-94be-c68cf07f8169"
      },
      "source": [
        "model = keras.Sequential([\n",
        "        keras.layers.Conv2D(filters = 32, kernel_size = (5,5),activation ='relu', padding='same', \n",
        "                            input_shape = (28,28,1)),\n",
        "        keras.layers.MaxPooling2D(pool_size=(2,2)),       \n",
        "\n",
        "        keras.layers.Flatten(),\n",
        "        keras.layers.Dense(512, activation = \"relu\"),\n",
        "        keras.layers.Dense(10, activation = \"softmax\")])"
      ],
      "execution_count": 5,
      "outputs": [
        {
          "output_type": "stream",
          "text": [
            "WARNING:tensorflow:From /usr/local/lib/python3.6/dist-packages/tensorflow/python/ops/resource_variable_ops.py:435: colocate_with (from tensorflow.python.framework.ops) is deprecated and will be removed in a future version.\n",
            "Instructions for updating:\n",
            "Colocations handled automatically by placer.\n"
          ],
          "name": "stdout"
        }
      ]
    },
    {
      "cell_type": "code",
      "metadata": {
        "id": "V8HmCF-hoIw5",
        "colab_type": "code",
        "colab": {}
      },
      "source": [
        "model.compile(optimizer='adam', \n",
        "              loss='sparse_categorical_crossentropy',\n",
        "              metrics=['accuracy'])"
      ],
      "execution_count": 0,
      "outputs": []
    },
    {
      "cell_type": "code",
      "metadata": {
        "id": "40juzS_5pVAo",
        "colab_type": "code",
        "outputId": "8c34243f-e267-4fd7-b727-59951ad7fb3b",
        "colab": {
          "base_uri": "https://localhost:8080/",
          "height": 714
        }
      },
      "source": [
        "from time import time\n",
        "\n",
        "tensorboard = tf.keras.callbacks.TensorBoard(log_dir=\"logs/{}\".format(time()))\n",
        "\n",
        "history = model.fit(train_images, train_labels, epochs=20, validation_split=0.2, callbacks=[tensorboard])"
      ],
      "execution_count": 7,
      "outputs": [
        {
          "output_type": "stream",
          "text": [
            "Train on 48000 samples, validate on 12000 samples\n",
            "Epoch 1/20\n",
            "48000/48000 [==============================] - 11s 239us/sample - loss: 0.3807 - acc: 0.8641 - val_loss: 0.2948 - val_acc: 0.8921\n",
            "Epoch 2/20\n",
            "48000/48000 [==============================] - 8s 163us/sample - loss: 0.2553 - acc: 0.9076 - val_loss: 0.2622 - val_acc: 0.9007\n",
            "Epoch 3/20\n",
            "48000/48000 [==============================] - 8s 171us/sample - loss: 0.2041 - acc: 0.9229 - val_loss: 0.2545 - val_acc: 0.9082\n",
            "Epoch 4/20\n",
            "48000/48000 [==============================] - 8s 166us/sample - loss: 0.1661 - acc: 0.9376 - val_loss: 0.2700 - val_acc: 0.9062\n",
            "Epoch 5/20\n",
            "48000/48000 [==============================] - 8s 163us/sample - loss: 0.1346 - acc: 0.9500 - val_loss: 0.2798 - val_acc: 0.9062\n",
            "Epoch 6/20\n",
            "48000/48000 [==============================] - 8s 164us/sample - loss: 0.1051 - acc: 0.9605 - val_loss: 0.2749 - val_acc: 0.9162\n",
            "Epoch 7/20\n",
            "48000/48000 [==============================] - 8s 165us/sample - loss: 0.0866 - acc: 0.9676 - val_loss: 0.3041 - val_acc: 0.9121\n",
            "Epoch 8/20\n",
            "48000/48000 [==============================] - 8s 163us/sample - loss: 0.0684 - acc: 0.9749 - val_loss: 0.3354 - val_acc: 0.9141\n",
            "Epoch 9/20\n",
            "48000/48000 [==============================] - 8s 163us/sample - loss: 0.0557 - acc: 0.9796 - val_loss: 0.3694 - val_acc: 0.9096\n",
            "Epoch 10/20\n",
            "48000/48000 [==============================] - 8s 162us/sample - loss: 0.0457 - acc: 0.9839 - val_loss: 0.3813 - val_acc: 0.9127\n",
            "Epoch 11/20\n",
            "48000/48000 [==============================] - 8s 162us/sample - loss: 0.0374 - acc: 0.9868 - val_loss: 0.3890 - val_acc: 0.9137\n",
            "Epoch 12/20\n",
            "48000/48000 [==============================] - 8s 163us/sample - loss: 0.0332 - acc: 0.9884 - val_loss: 0.4470 - val_acc: 0.9148\n",
            "Epoch 13/20\n",
            "48000/48000 [==============================] - 8s 163us/sample - loss: 0.0283 - acc: 0.9908 - val_loss: 0.4532 - val_acc: 0.9103\n",
            "Epoch 14/20\n",
            "48000/48000 [==============================] - 8s 163us/sample - loss: 0.0244 - acc: 0.9912 - val_loss: 0.5170 - val_acc: 0.9098\n",
            "Epoch 15/20\n",
            "48000/48000 [==============================] - 8s 162us/sample - loss: 0.0218 - acc: 0.9923 - val_loss: 0.5036 - val_acc: 0.9119\n",
            "Epoch 16/20\n",
            "48000/48000 [==============================] - 8s 163us/sample - loss: 0.0198 - acc: 0.9933 - val_loss: 0.5024 - val_acc: 0.9119\n",
            "Epoch 17/20\n",
            "48000/48000 [==============================] - 8s 165us/sample - loss: 0.0170 - acc: 0.9940 - val_loss: 0.5286 - val_acc: 0.9104\n",
            "Epoch 18/20\n",
            "48000/48000 [==============================] - 8s 163us/sample - loss: 0.0186 - acc: 0.9942 - val_loss: 0.5477 - val_acc: 0.9117\n",
            "Epoch 19/20\n",
            "48000/48000 [==============================] - 8s 162us/sample - loss: 0.0157 - acc: 0.9947 - val_loss: 0.5976 - val_acc: 0.9050\n",
            "Epoch 20/20\n",
            "48000/48000 [==============================] - 8s 163us/sample - loss: 0.0155 - acc: 0.9952 - val_loss: 0.5467 - val_acc: 0.9094\n"
          ],
          "name": "stdout"
        }
      ]
    },
    {
      "cell_type": "code",
      "metadata": {
        "id": "YhtgQp8hqazX",
        "colab_type": "code",
        "colab": {
          "base_uri": "https://localhost:8080/",
          "height": 51
        },
        "outputId": "826bea3c-6a8d-417b-aa50-8a17aabaa340"
      },
      "source": [
        "test_loss, test_acc = model.evaluate(test_images, test_labels)\n",
        "\n",
        "print('Test accuracy:', test_acc)"
      ],
      "execution_count": 8,
      "outputs": [
        {
          "output_type": "stream",
          "text": [
            "10000/10000 [==============================] - 1s 54us/sample - loss: 0.5509 - acc: 0.9075\n",
            "Test accuracy: 0.9075\n"
          ],
          "name": "stdout"
        }
      ]
    },
    {
      "cell_type": "markdown",
      "metadata": {
        "id": "cj_52tvlorav",
        "colab_type": "text"
      },
      "source": [
        "# Plot Accuracy over time for comparison"
      ]
    },
    {
      "cell_type": "code",
      "metadata": {
        "id": "a-8mbcXLoc4B",
        "colab_type": "code",
        "colab": {
          "base_uri": "https://localhost:8080/",
          "height": 573
        },
        "outputId": "a44c500c-5341-4c08-e1bc-c2ae74a29735"
      },
      "source": [
        "#model.fit() returns a History object that contains a dictionary with everything that happened during training:\n",
        "history_dict = history.history\n",
        "history_dict.keys()\n",
        "\n",
        "# There are four entries: one for each monitored metric during training and validation. \n",
        "# We can use these to plot the training and validation loss and accuracy for comparison.\n",
        "acc = history_dict['acc']\n",
        "val_acc = history_dict['val_acc']\n",
        "loss = history_dict['loss']\n",
        "val_loss = history_dict['val_loss']\n",
        "\n",
        "#epochs = range(1, len(acc) + 1)\n",
        "epochs = range(len(acc))\n",
        "\n",
        "\n",
        "# \"r\" is for \"solid red line\"\n",
        "plt.plot(epochs, loss, 'r', label='Training loss')\n",
        "# b is for \"solid blue line\"\n",
        "plt.plot(epochs, val_loss, 'b', label='Validation loss')\n",
        "plt.title('Training and validation Loss')\n",
        "plt.xlabel('Epochs')\n",
        "plt.ylabel('Loss')\n",
        "plt.legend(loc=0)\n",
        "plt.show()\n",
        "\n",
        "plt.plot(epochs, acc, 'r', label='Training acc')\n",
        "plt.plot(epochs, val_acc, 'b', label='Validation acc')\n",
        "plt.title('Training and validation Accuracy')\n",
        "plt.xlabel('Epochs')\n",
        "plt.ylabel('Accuracy')\n",
        "plt.legend(loc=0)\n",
        "plt.show()\n",
        "\n"
      ],
      "execution_count": 9,
      "outputs": [
        {
          "output_type": "display_data",
          "data": {
            "image/png": "[encoded data removed]",
            "text/plain": [
              "<Figure size 432x288 with 1 Axes>"
            ]
          },
          "metadata": {
            "tags": []
          }
        },
        {
          "output_type": "display_data",
          "data": {
            "image/png": "[encoded data removed]",
            "text/plain": [
              "<Figure size 432x288 with 1 Axes>"
            ]
          },
          "metadata": {
            "tags": []
          }
        }
      ]
    },
    {
      "cell_type": "markdown",
      "metadata": {
        "id": "ureUhH0roIw7",
        "colab_type": "text"
      },
      "source": [
        "# Define EarlyStopping Callbacks"
      ]
    },
    {
      "cell_type": "code",
      "metadata": {
        "id": "tf1VdLasoIw8",
        "colab_type": "code",
        "colab": {}
      },
      "source": [
        "model = keras.Sequential([\n",
        "        keras.layers.Conv2D(filters = 32, kernel_size = (5,5),activation ='relu', padding='same', \n",
        "                            input_shape = (28,28,1)),\n",
        "        keras.layers.MaxPooling2D(pool_size=(2,2)),       \n",
        "\n",
        "        keras.layers.Flatten(),\n",
        "        keras.layers.Dense(512, activation = \"relu\"),\n",
        "        keras.layers.Dense(10, activation = \"softmax\")])\n",
        "\n",
        "model.compile(optimizer='adam', \n",
        "              loss='sparse_categorical_crossentropy',\n",
        "              metrics=['accuracy'])\n",
        "\n",
        "earlystop = tf.keras.callbacks.EarlyStopping(monitor='val_loss', patience=2) # Try with 3"
      ],
      "execution_count": 0,
      "outputs": []
    },
    {
      "cell_type": "code",
      "metadata": {
        "id": "EHkOjSs4oIw-",
        "colab_type": "code",
        "outputId": "f1c8b402-4d46-45a8-b77f-edf1f870abf1",
        "colab": {
          "base_uri": "https://localhost:8080/",
          "height": 238
        }
      },
      "source": [
        "from time import time\n",
        "\n",
        "tensorboard = tf.keras.callbacks.TensorBoard(log_dir=\"logs/{}\".format(time()))\n",
        "\n",
        "history = model.fit(train_images, train_labels, epochs=20, validation_split=0.2, callbacks=[earlystop, tensorboard])"
      ],
      "execution_count": 11,
      "outputs": [
        {
          "output_type": "stream",
          "text": [
            "Train on 48000 samples, validate on 12000 samples\n",
            "Epoch 1/20\n",
            "48000/48000 [==============================] - 8s 174us/sample - loss: 0.3832 - acc: 0.8614 - val_loss: 0.2958 - val_acc: 0.8950\n",
            "Epoch 2/20\n",
            "48000/48000 [==============================] - 8s 171us/sample - loss: 0.2557 - acc: 0.9061 - val_loss: 0.2672 - val_acc: 0.9001\n",
            "Epoch 3/20\n",
            "48000/48000 [==============================] - 8s 170us/sample - loss: 0.2057 - acc: 0.9232 - val_loss: 0.2434 - val_acc: 0.9103\n",
            "Epoch 4/20\n",
            "48000/48000 [==============================] - 8s 163us/sample - loss: 0.1669 - acc: 0.9380 - val_loss: 0.2378 - val_acc: 0.9152\n",
            "Epoch 5/20\n",
            "48000/48000 [==============================] - 8s 166us/sample - loss: 0.1339 - acc: 0.9496 - val_loss: 0.2624 - val_acc: 0.9137\n",
            "Epoch 6/20\n",
            "48000/48000 [==============================] - 8s 165us/sample - loss: 0.1089 - acc: 0.9595 - val_loss: 0.2742 - val_acc: 0.9108\n"
          ],
          "name": "stdout"
        }
      ]
    },
    {
      "cell_type": "code",
      "metadata": {
        "id": "w8MHR5-EoIxB",
        "colab_type": "code",
        "outputId": "ee95ab4c-4659-4787-fbde-fcf1a250e619",
        "colab": {
          "base_uri": "https://localhost:8080/",
          "height": 51
        }
      },
      "source": [
        "test_loss, test_acc = model.evaluate(test_images, test_labels)\n",
        "\n",
        "print('Test accuracy:', test_acc)"
      ],
      "execution_count": 12,
      "outputs": [
        {
          "output_type": "stream",
          "text": [
            "10000/10000 [==============================] - 1s 56us/sample - loss: 0.2868 - acc: 0.9097\n",
            "Test accuracy: 0.9097\n"
          ],
          "name": "stdout"
        }
      ]
    },
    {
      "cell_type": "code",
      "metadata": {
        "id": "xlaR6Eh0oIxD",
        "colab_type": "code",
        "colab": {
          "base_uri": "https://localhost:8080/",
          "height": 573
        },
        "outputId": "1ed053a5-a163-4026-a214-ba4055f36b3b"
      },
      "source": [
        "#model.fit() returns a History object that contains a dictionary with everything that happened during training:\n",
        "history_dict = history.history\n",
        "history_dict.keys()\n",
        "\n",
        "# There are four entries: one for each monitored metric during training and validation. \n",
        "# We can use these to plot the training and validation loss and accuracy for comparison.\n",
        "acc = history_dict['acc']\n",
        "val_acc = history_dict['val_acc']\n",
        "loss = history_dict['loss']\n",
        "val_loss = history_dict['val_loss']\n",
        "\n",
        "#epochs = range(1, len(acc) + 1)\n",
        "epochs = range(len(acc))\n",
        "\n",
        "\n",
        "# \"r\" is for \"solid red line\"\n",
        "plt.plot(epochs, loss, 'r', label='Training loss')\n",
        "# b is for \"solid blue line\"\n",
        "plt.plot(epochs, val_loss, 'b', label='Validation loss')\n",
        "plt.title('Training and validation Loss')\n",
        "plt.xlabel('Epochs')\n",
        "plt.ylabel('Loss')\n",
        "plt.legend(loc=0)\n",
        "plt.show()\n",
        "\n",
        "plt.plot(epochs, acc, 'r', label='Training acc')\n",
        "plt.plot(epochs, val_acc, 'b', label='Validation acc')\n",
        "plt.title('Training and validation Accuracy')\n",
        "plt.xlabel('Epochs')\n",
        "plt.ylabel('Accuracy')\n",
        "plt.legend(loc=0)\n",
        "plt.show()"
      ],
      "execution_count": 13,
      "outputs": [
        {
          "output_type": "display_data",
          "data": {
            "image/png": "[encoded data removed]",
            "text/plain": [
              "<Figure size 432x288 with 1 Axes>"
            ]
          },
          "metadata": {
            "tags": []
          }
        },
        {
          "output_type": "display_data",
          "data": {
            "image/png": "[encoded data removed]",
            "text/plain": [
              "<Figure size 432x288 with 1 Axes>"
            ]
          },
          "metadata": {
            "tags": []
          }
        }
      ]
    },
    {
      "source": [
        "# Next Steps\n",
        "\n",
        "By playing with the _early stop_ method we can see that the loss is significantly decreased, together with the model training duration without affecting the accuracy. Now, from the graphs above it does look like there is still room to improve the model, as we should aim for a smaller gap between both the _tranning_ & _validation loss_, as well as _trainning_ & _validation accuracy_. For that we need to find a way to make the model better at generalising. To achieve that, on the next and final section, we will be looking at adding a _Dropout layer_, which randomly and temporarily drops out nodes during the tranning phase of the model. \n",
        "\n",
        "[Prev](https://github.com/JPedro2/ImageClassificationWorkshop/blob/master/model_2.ipynb) - [Next]((https://github.com/JPedro2/ImageClassificationWorkshop/blob/master/model_4.ipynb))"
      ],
      "cell_type": "markdown",
      "metadata": {}
    }
  ]
}